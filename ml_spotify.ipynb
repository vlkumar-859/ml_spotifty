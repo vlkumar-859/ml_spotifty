{
  "nbformat": 4,
  "nbformat_minor": 0,
  "metadata": {
    "colab": {
      "name": "ml_spotify.ipynb",
      "provenance": [],
      "collapsed_sections": [],
      "authorship_tag": "ABX9TyMlAnFN1T48OVmmfAmvoEu3",
      "include_colab_link": true
    },
    "kernelspec": {
      "name": "python3",
      "display_name": "Python 3"
    },
    "language_info": {
      "name": "python"
    }
  },
  "cells": [
    {
      "cell_type": "markdown",
      "metadata": {
        "id": "view-in-github",
        "colab_type": "text"
      },
      "source": [
        "<a href=\"https://colab.research.google.com/github/vlkumar-859/ml_spotifty/blob/main/ml_spotify.ipynb\" target=\"_parent\"><img src=\"https://colab.research.google.com/assets/colab-badge.svg\" alt=\"Open In Colab\"/></a>"
      ]
    },
    {
      "cell_type": "markdown",
      "metadata": {
        "id": "kBS8v1_mVS5X"
      },
      "source": [
        "Importing different libraries to handle the data set\n"
      ]
    },
    {
      "cell_type": "code",
      "metadata": {
        "id": "ELIl6bBGVcic"
      },
      "source": [
        "import numpy as np \n",
        "import pandas as pd \n",
        "import matplotlib.pyplot as plt\n",
        "import seaborn as sns"
      ],
      "execution_count": 1,
      "outputs": []
    },
    {
      "cell_type": "code",
      "metadata": {
        "colab": {
          "base_uri": "https://localhost:8080/",
          "height": 422
        },
        "id": "pLQp8jTHVl-r",
        "outputId": "d5dbeae2-6ae7-4e37-ba5c-344ed21b5ae5"
      },
      "source": [
        "spotify_data = pd.read_csv(\"/content/track_data.csv\")\n",
        "spotify_data"
      ],
      "execution_count": 2,
      "outputs": [
        {
          "output_type": "execute_result",
          "data": {
            "text/html": [
              "<div>\n",
              "<style scoped>\n",
              "    .dataframe tbody tr th:only-of-type {\n",
              "        vertical-align: middle;\n",
              "    }\n",
              "\n",
              "    .dataframe tbody tr th {\n",
              "        vertical-align: top;\n",
              "    }\n",
              "\n",
              "    .dataframe thead th {\n",
              "        text-align: right;\n",
              "    }\n",
              "</style>\n",
              "<table border=\"1\" class=\"dataframe\">\n",
              "  <thead>\n",
              "    <tr style=\"text-align: right;\">\n",
              "      <th></th>\n",
              "      <th>id</th>\n",
              "      <th>acousticness</th>\n",
              "      <th>danceability</th>\n",
              "      <th>duration_ms</th>\n",
              "      <th>energy</th>\n",
              "      <th>instrumentalness</th>\n",
              "      <th>key</th>\n",
              "      <th>liveness</th>\n",
              "      <th>loudness</th>\n",
              "      <th>mode</th>\n",
              "      <th>speechiness</th>\n",
              "      <th>tempo</th>\n",
              "      <th>time_signature</th>\n",
              "      <th>valence</th>\n",
              "      <th>track_popularity</th>\n",
              "      <th>artist_popularity</th>\n",
              "      <th>year</th>\n",
              "      <th>hit</th>\n",
              "    </tr>\n",
              "  </thead>\n",
              "  <tbody>\n",
              "    <tr>\n",
              "      <th>0</th>\n",
              "      <td>0HEmnAUT8PHznIAAmVXqFJ</td>\n",
              "      <td>0.009400</td>\n",
              "      <td>0.887</td>\n",
              "      <td>193200</td>\n",
              "      <td>0.480</td>\n",
              "      <td>0.000036</td>\n",
              "      <td>11</td>\n",
              "      <td>0.0662</td>\n",
              "      <td>-11.994</td>\n",
              "      <td>1</td>\n",
              "      <td>0.1170</td>\n",
              "      <td>95.846</td>\n",
              "      <td>4</td>\n",
              "      <td>0.607</td>\n",
              "      <td>76</td>\n",
              "      <td>78.0</td>\n",
              "      <td>2016</td>\n",
              "      <td>1</td>\n",
              "    </tr>\n",
              "    <tr>\n",
              "      <th>1</th>\n",
              "      <td>6YnzBV7YkaXZNCK3tlnCfg</td>\n",
              "      <td>0.204000</td>\n",
              "      <td>0.776</td>\n",
              "      <td>243400</td>\n",
              "      <td>0.703</td>\n",
              "      <td>0.000000</td>\n",
              "      <td>0</td>\n",
              "      <td>0.3360</td>\n",
              "      <td>-10.696</td>\n",
              "      <td>1</td>\n",
              "      <td>0.0427</td>\n",
              "      <td>112.534</td>\n",
              "      <td>4</td>\n",
              "      <td>0.939</td>\n",
              "      <td>66</td>\n",
              "      <td>73.0</td>\n",
              "      <td>2016</td>\n",
              "      <td>1</td>\n",
              "    </tr>\n",
              "    <tr>\n",
              "      <th>2</th>\n",
              "      <td>0xPaZrF25ltzvz1a2Pm5DQ</td>\n",
              "      <td>0.420000</td>\n",
              "      <td>0.503</td>\n",
              "      <td>171827</td>\n",
              "      <td>0.465</td>\n",
              "      <td>0.000000</td>\n",
              "      <td>8</td>\n",
              "      <td>0.1010</td>\n",
              "      <td>-8.077</td>\n",
              "      <td>0</td>\n",
              "      <td>0.0274</td>\n",
              "      <td>141.796</td>\n",
              "      <td>4</td>\n",
              "      <td>0.143</td>\n",
              "      <td>64</td>\n",
              "      <td>91.0</td>\n",
              "      <td>2016</td>\n",
              "      <td>1</td>\n",
              "    </tr>\n",
              "    <tr>\n",
              "      <th>3</th>\n",
              "      <td>2R7858bg0GHuBBxjTyOL7N</td>\n",
              "      <td>0.232000</td>\n",
              "      <td>0.583</td>\n",
              "      <td>302600</td>\n",
              "      <td>0.545</td>\n",
              "      <td>0.000000</td>\n",
              "      <td>2</td>\n",
              "      <td>0.1330</td>\n",
              "      <td>-11.698</td>\n",
              "      <td>0</td>\n",
              "      <td>0.0351</td>\n",
              "      <td>153.250</td>\n",
              "      <td>4</td>\n",
              "      <td>0.800</td>\n",
              "      <td>64</td>\n",
              "      <td>78.0</td>\n",
              "      <td>2016</td>\n",
              "      <td>1</td>\n",
              "    </tr>\n",
              "    <tr>\n",
              "      <th>4</th>\n",
              "      <td>08WPvDEsHvTFuB9w8tC2OS</td>\n",
              "      <td>0.273000</td>\n",
              "      <td>0.781</td>\n",
              "      <td>193181</td>\n",
              "      <td>0.570</td>\n",
              "      <td>0.000000</td>\n",
              "      <td>11</td>\n",
              "      <td>0.1960</td>\n",
              "      <td>-5.874</td>\n",
              "      <td>0</td>\n",
              "      <td>0.1880</td>\n",
              "      <td>107.059</td>\n",
              "      <td>4</td>\n",
              "      <td>0.858</td>\n",
              "      <td>59</td>\n",
              "      <td>72.0</td>\n",
              "      <td>2016</td>\n",
              "      <td>1</td>\n",
              "    </tr>\n",
              "    <tr>\n",
              "      <th>...</th>\n",
              "      <td>...</td>\n",
              "      <td>...</td>\n",
              "      <td>...</td>\n",
              "      <td>...</td>\n",
              "      <td>...</td>\n",
              "      <td>...</td>\n",
              "      <td>...</td>\n",
              "      <td>...</td>\n",
              "      <td>...</td>\n",
              "      <td>...</td>\n",
              "      <td>...</td>\n",
              "      <td>...</td>\n",
              "      <td>...</td>\n",
              "      <td>...</td>\n",
              "      <td>...</td>\n",
              "      <td>...</td>\n",
              "      <td>...</td>\n",
              "      <td>...</td>\n",
              "    </tr>\n",
              "    <tr>\n",
              "      <th>7311</th>\n",
              "      <td>5TnLXSd4h6G06Fbt2ApOpa</td>\n",
              "      <td>0.089900</td>\n",
              "      <td>0.857</td>\n",
              "      <td>162400</td>\n",
              "      <td>0.583</td>\n",
              "      <td>0.000000</td>\n",
              "      <td>1</td>\n",
              "      <td>0.2040</td>\n",
              "      <td>-7.466</td>\n",
              "      <td>0</td>\n",
              "      <td>0.0860</td>\n",
              "      <td>132.010</td>\n",
              "      <td>4</td>\n",
              "      <td>0.443</td>\n",
              "      <td>72</td>\n",
              "      <td>95.0</td>\n",
              "      <td>2019</td>\n",
              "      <td>0</td>\n",
              "    </tr>\n",
              "    <tr>\n",
              "      <th>7312</th>\n",
              "      <td>748Vnqa1Rpwteiarxartiz</td>\n",
              "      <td>0.286000</td>\n",
              "      <td>0.895</td>\n",
              "      <td>211480</td>\n",
              "      <td>0.407</td>\n",
              "      <td>0.000002</td>\n",
              "      <td>6</td>\n",
              "      <td>0.1260</td>\n",
              "      <td>-11.807</td>\n",
              "      <td>1</td>\n",
              "      <td>0.0542</td>\n",
              "      <td>119.030</td>\n",
              "      <td>4</td>\n",
              "      <td>0.677</td>\n",
              "      <td>53</td>\n",
              "      <td>65.0</td>\n",
              "      <td>2019</td>\n",
              "      <td>0</td>\n",
              "    </tr>\n",
              "    <tr>\n",
              "      <th>7313</th>\n",
              "      <td>22GEETI4LXhhePCO71PyEv</td>\n",
              "      <td>0.000181</td>\n",
              "      <td>0.362</td>\n",
              "      <td>177048</td>\n",
              "      <td>0.915</td>\n",
              "      <td>0.000000</td>\n",
              "      <td>5</td>\n",
              "      <td>0.1660</td>\n",
              "      <td>-3.244</td>\n",
              "      <td>0</td>\n",
              "      <td>0.1810</td>\n",
              "      <td>162.226</td>\n",
              "      <td>4</td>\n",
              "      <td>0.603</td>\n",
              "      <td>60</td>\n",
              "      <td>73.0</td>\n",
              "      <td>2018</td>\n",
              "      <td>0</td>\n",
              "    </tr>\n",
              "    <tr>\n",
              "      <th>7314</th>\n",
              "      <td>07xpeB1txX9bPKTwkuflMg</td>\n",
              "      <td>0.036600</td>\n",
              "      <td>0.900</td>\n",
              "      <td>181422</td>\n",
              "      <td>0.610</td>\n",
              "      <td>0.000041</td>\n",
              "      <td>11</td>\n",
              "      <td>0.0979</td>\n",
              "      <td>-9.051</td>\n",
              "      <td>0</td>\n",
              "      <td>0.1140</td>\n",
              "      <td>127.149</td>\n",
              "      <td>4</td>\n",
              "      <td>0.673</td>\n",
              "      <td>56</td>\n",
              "      <td>47.0</td>\n",
              "      <td>2019</td>\n",
              "      <td>0</td>\n",
              "    </tr>\n",
              "    <tr>\n",
              "      <th>7315</th>\n",
              "      <td>1riDpTEzPc80x3yPhDOS1Y</td>\n",
              "      <td>0.085800</td>\n",
              "      <td>0.736</td>\n",
              "      <td>150767</td>\n",
              "      <td>0.604</td>\n",
              "      <td>0.000000</td>\n",
              "      <td>10</td>\n",
              "      <td>0.4350</td>\n",
              "      <td>-7.769</td>\n",
              "      <td>0</td>\n",
              "      <td>0.2650</td>\n",
              "      <td>77.956</td>\n",
              "      <td>4</td>\n",
              "      <td>0.687</td>\n",
              "      <td>21</td>\n",
              "      <td>36.0</td>\n",
              "      <td>2019</td>\n",
              "      <td>0</td>\n",
              "    </tr>\n",
              "  </tbody>\n",
              "</table>\n",
              "<p>7316 rows × 18 columns</p>\n",
              "</div>"
            ],
            "text/plain": [
              "                          id  acousticness  ...  year  hit\n",
              "0     0HEmnAUT8PHznIAAmVXqFJ      0.009400  ...  2016    1\n",
              "1     6YnzBV7YkaXZNCK3tlnCfg      0.204000  ...  2016    1\n",
              "2     0xPaZrF25ltzvz1a2Pm5DQ      0.420000  ...  2016    1\n",
              "3     2R7858bg0GHuBBxjTyOL7N      0.232000  ...  2016    1\n",
              "4     08WPvDEsHvTFuB9w8tC2OS      0.273000  ...  2016    1\n",
              "...                      ...           ...  ...   ...  ...\n",
              "7311  5TnLXSd4h6G06Fbt2ApOpa      0.089900  ...  2019    0\n",
              "7312  748Vnqa1Rpwteiarxartiz      0.286000  ...  2019    0\n",
              "7313  22GEETI4LXhhePCO71PyEv      0.000181  ...  2018    0\n",
              "7314  07xpeB1txX9bPKTwkuflMg      0.036600  ...  2019    0\n",
              "7315  1riDpTEzPc80x3yPhDOS1Y      0.085800  ...  2019    0\n",
              "\n",
              "[7316 rows x 18 columns]"
            ]
          },
          "metadata": {
            "tags": []
          },
          "execution_count": 2
        }
      ]
    },
    {
      "cell_type": "markdown",
      "metadata": {
        "id": "YObwd72_V6UR"
      },
      "source": [
        "data types of the data present in the dataset\n"
      ]
    },
    {
      "cell_type": "code",
      "metadata": {
        "colab": {
          "base_uri": "https://localhost:8080/"
        },
        "id": "fRX6c8kBV836",
        "outputId": "d0a6c6c7-277f-4b1f-b36e-28331c916297"
      },
      "source": [
        "spotify_data.dtypes"
      ],
      "execution_count": 3,
      "outputs": [
        {
          "output_type": "execute_result",
          "data": {
            "text/plain": [
              "id                    object\n",
              "acousticness         float64\n",
              "danceability         float64\n",
              "duration_ms            int64\n",
              "energy               float64\n",
              "instrumentalness     float64\n",
              "key                    int64\n",
              "liveness             float64\n",
              "loudness             float64\n",
              "mode                   int64\n",
              "speechiness          float64\n",
              "tempo                float64\n",
              "time_signature         int64\n",
              "valence              float64\n",
              "track_popularity       int64\n",
              "artist_popularity    float64\n",
              "year                   int64\n",
              "hit                    int64\n",
              "dtype: object"
            ]
          },
          "metadata": {
            "tags": []
          },
          "execution_count": 3
        }
      ]
    },
    {
      "cell_type": "markdown",
      "metadata": {
        "id": "yJ8nY77EKQHb"
      },
      "source": [
        "Displaying the first five rows of the dataset"
      ]
    },
    {
      "cell_type": "code",
      "metadata": {
        "colab": {
          "base_uri": "https://localhost:8080/",
          "height": 215
        },
        "id": "bXCp1YEiWKBf",
        "outputId": "134c2f25-bf8c-44fa-b511-0fc81683e2c5"
      },
      "source": [
        "spotify_data.head()"
      ],
      "execution_count": 4,
      "outputs": [
        {
          "output_type": "execute_result",
          "data": {
            "text/html": [
              "<div>\n",
              "<style scoped>\n",
              "    .dataframe tbody tr th:only-of-type {\n",
              "        vertical-align: middle;\n",
              "    }\n",
              "\n",
              "    .dataframe tbody tr th {\n",
              "        vertical-align: top;\n",
              "    }\n",
              "\n",
              "    .dataframe thead th {\n",
              "        text-align: right;\n",
              "    }\n",
              "</style>\n",
              "<table border=\"1\" class=\"dataframe\">\n",
              "  <thead>\n",
              "    <tr style=\"text-align: right;\">\n",
              "      <th></th>\n",
              "      <th>id</th>\n",
              "      <th>acousticness</th>\n",
              "      <th>danceability</th>\n",
              "      <th>duration_ms</th>\n",
              "      <th>energy</th>\n",
              "      <th>instrumentalness</th>\n",
              "      <th>key</th>\n",
              "      <th>liveness</th>\n",
              "      <th>loudness</th>\n",
              "      <th>mode</th>\n",
              "      <th>speechiness</th>\n",
              "      <th>tempo</th>\n",
              "      <th>time_signature</th>\n",
              "      <th>valence</th>\n",
              "      <th>track_popularity</th>\n",
              "      <th>artist_popularity</th>\n",
              "      <th>year</th>\n",
              "      <th>hit</th>\n",
              "    </tr>\n",
              "  </thead>\n",
              "  <tbody>\n",
              "    <tr>\n",
              "      <th>0</th>\n",
              "      <td>0HEmnAUT8PHznIAAmVXqFJ</td>\n",
              "      <td>0.0094</td>\n",
              "      <td>0.887</td>\n",
              "      <td>193200</td>\n",
              "      <td>0.480</td>\n",
              "      <td>0.000036</td>\n",
              "      <td>11</td>\n",
              "      <td>0.0662</td>\n",
              "      <td>-11.994</td>\n",
              "      <td>1</td>\n",
              "      <td>0.1170</td>\n",
              "      <td>95.846</td>\n",
              "      <td>4</td>\n",
              "      <td>0.607</td>\n",
              "      <td>76</td>\n",
              "      <td>78.0</td>\n",
              "      <td>2016</td>\n",
              "      <td>1</td>\n",
              "    </tr>\n",
              "    <tr>\n",
              "      <th>1</th>\n",
              "      <td>6YnzBV7YkaXZNCK3tlnCfg</td>\n",
              "      <td>0.2040</td>\n",
              "      <td>0.776</td>\n",
              "      <td>243400</td>\n",
              "      <td>0.703</td>\n",
              "      <td>0.000000</td>\n",
              "      <td>0</td>\n",
              "      <td>0.3360</td>\n",
              "      <td>-10.696</td>\n",
              "      <td>1</td>\n",
              "      <td>0.0427</td>\n",
              "      <td>112.534</td>\n",
              "      <td>4</td>\n",
              "      <td>0.939</td>\n",
              "      <td>66</td>\n",
              "      <td>73.0</td>\n",
              "      <td>2016</td>\n",
              "      <td>1</td>\n",
              "    </tr>\n",
              "    <tr>\n",
              "      <th>2</th>\n",
              "      <td>0xPaZrF25ltzvz1a2Pm5DQ</td>\n",
              "      <td>0.4200</td>\n",
              "      <td>0.503</td>\n",
              "      <td>171827</td>\n",
              "      <td>0.465</td>\n",
              "      <td>0.000000</td>\n",
              "      <td>8</td>\n",
              "      <td>0.1010</td>\n",
              "      <td>-8.077</td>\n",
              "      <td>0</td>\n",
              "      <td>0.0274</td>\n",
              "      <td>141.796</td>\n",
              "      <td>4</td>\n",
              "      <td>0.143</td>\n",
              "      <td>64</td>\n",
              "      <td>91.0</td>\n",
              "      <td>2016</td>\n",
              "      <td>1</td>\n",
              "    </tr>\n",
              "    <tr>\n",
              "      <th>3</th>\n",
              "      <td>2R7858bg0GHuBBxjTyOL7N</td>\n",
              "      <td>0.2320</td>\n",
              "      <td>0.583</td>\n",
              "      <td>302600</td>\n",
              "      <td>0.545</td>\n",
              "      <td>0.000000</td>\n",
              "      <td>2</td>\n",
              "      <td>0.1330</td>\n",
              "      <td>-11.698</td>\n",
              "      <td>0</td>\n",
              "      <td>0.0351</td>\n",
              "      <td>153.250</td>\n",
              "      <td>4</td>\n",
              "      <td>0.800</td>\n",
              "      <td>64</td>\n",
              "      <td>78.0</td>\n",
              "      <td>2016</td>\n",
              "      <td>1</td>\n",
              "    </tr>\n",
              "    <tr>\n",
              "      <th>4</th>\n",
              "      <td>08WPvDEsHvTFuB9w8tC2OS</td>\n",
              "      <td>0.2730</td>\n",
              "      <td>0.781</td>\n",
              "      <td>193181</td>\n",
              "      <td>0.570</td>\n",
              "      <td>0.000000</td>\n",
              "      <td>11</td>\n",
              "      <td>0.1960</td>\n",
              "      <td>-5.874</td>\n",
              "      <td>0</td>\n",
              "      <td>0.1880</td>\n",
              "      <td>107.059</td>\n",
              "      <td>4</td>\n",
              "      <td>0.858</td>\n",
              "      <td>59</td>\n",
              "      <td>72.0</td>\n",
              "      <td>2016</td>\n",
              "      <td>1</td>\n",
              "    </tr>\n",
              "  </tbody>\n",
              "</table>\n",
              "</div>"
            ],
            "text/plain": [
              "                       id  acousticness  ...  year  hit\n",
              "0  0HEmnAUT8PHznIAAmVXqFJ        0.0094  ...  2016    1\n",
              "1  6YnzBV7YkaXZNCK3tlnCfg        0.2040  ...  2016    1\n",
              "2  0xPaZrF25ltzvz1a2Pm5DQ        0.4200  ...  2016    1\n",
              "3  2R7858bg0GHuBBxjTyOL7N        0.2320  ...  2016    1\n",
              "4  08WPvDEsHvTFuB9w8tC2OS        0.2730  ...  2016    1\n",
              "\n",
              "[5 rows x 18 columns]"
            ]
          },
          "metadata": {
            "tags": []
          },
          "execution_count": 4
        }
      ]
    },
    {
      "cell_type": "markdown",
      "metadata": {
        "id": "_wBJC9uHWSL9"
      },
      "source": [
        "Displaying the last five rows of the data set"
      ]
    },
    {
      "cell_type": "code",
      "metadata": {
        "colab": {
          "base_uri": "https://localhost:8080/",
          "height": 215
        },
        "id": "fFdidxiNWM9C",
        "outputId": "4ce08e9c-042f-40a6-d951-c0d1650e5559"
      },
      "source": [
        "spotify_data.tail()"
      ],
      "execution_count": null,
      "outputs": [
        {
          "output_type": "execute_result",
          "data": {
            "text/html": [
              "<div>\n",
              "<style scoped>\n",
              "    .dataframe tbody tr th:only-of-type {\n",
              "        vertical-align: middle;\n",
              "    }\n",
              "\n",
              "    .dataframe tbody tr th {\n",
              "        vertical-align: top;\n",
              "    }\n",
              "\n",
              "    .dataframe thead th {\n",
              "        text-align: right;\n",
              "    }\n",
              "</style>\n",
              "<table border=\"1\" class=\"dataframe\">\n",
              "  <thead>\n",
              "    <tr style=\"text-align: right;\">\n",
              "      <th></th>\n",
              "      <th>id</th>\n",
              "      <th>acousticness</th>\n",
              "      <th>danceability</th>\n",
              "      <th>duration_ms</th>\n",
              "      <th>energy</th>\n",
              "      <th>instrumentalness</th>\n",
              "      <th>key</th>\n",
              "      <th>liveness</th>\n",
              "      <th>loudness</th>\n",
              "      <th>mode</th>\n",
              "      <th>speechiness</th>\n",
              "      <th>tempo</th>\n",
              "      <th>time_signature</th>\n",
              "      <th>valence</th>\n",
              "      <th>track_popularity</th>\n",
              "      <th>artist_popularity</th>\n",
              "      <th>year</th>\n",
              "      <th>hit</th>\n",
              "    </tr>\n",
              "  </thead>\n",
              "  <tbody>\n",
              "    <tr>\n",
              "      <th>7311</th>\n",
              "      <td>5TnLXSd4h6G06Fbt2ApOpa</td>\n",
              "      <td>0.089900</td>\n",
              "      <td>0.857</td>\n",
              "      <td>162400</td>\n",
              "      <td>0.583</td>\n",
              "      <td>0.000000</td>\n",
              "      <td>1</td>\n",
              "      <td>0.2040</td>\n",
              "      <td>-7.466</td>\n",
              "      <td>0</td>\n",
              "      <td>0.0860</td>\n",
              "      <td>132.010</td>\n",
              "      <td>4</td>\n",
              "      <td>0.443</td>\n",
              "      <td>72</td>\n",
              "      <td>95.0</td>\n",
              "      <td>2019</td>\n",
              "      <td>0</td>\n",
              "    </tr>\n",
              "    <tr>\n",
              "      <th>7312</th>\n",
              "      <td>748Vnqa1Rpwteiarxartiz</td>\n",
              "      <td>0.286000</td>\n",
              "      <td>0.895</td>\n",
              "      <td>211480</td>\n",
              "      <td>0.407</td>\n",
              "      <td>0.000002</td>\n",
              "      <td>6</td>\n",
              "      <td>0.1260</td>\n",
              "      <td>-11.807</td>\n",
              "      <td>1</td>\n",
              "      <td>0.0542</td>\n",
              "      <td>119.030</td>\n",
              "      <td>4</td>\n",
              "      <td>0.677</td>\n",
              "      <td>53</td>\n",
              "      <td>65.0</td>\n",
              "      <td>2019</td>\n",
              "      <td>0</td>\n",
              "    </tr>\n",
              "    <tr>\n",
              "      <th>7313</th>\n",
              "      <td>22GEETI4LXhhePCO71PyEv</td>\n",
              "      <td>0.000181</td>\n",
              "      <td>0.362</td>\n",
              "      <td>177048</td>\n",
              "      <td>0.915</td>\n",
              "      <td>0.000000</td>\n",
              "      <td>5</td>\n",
              "      <td>0.1660</td>\n",
              "      <td>-3.244</td>\n",
              "      <td>0</td>\n",
              "      <td>0.1810</td>\n",
              "      <td>162.226</td>\n",
              "      <td>4</td>\n",
              "      <td>0.603</td>\n",
              "      <td>60</td>\n",
              "      <td>73.0</td>\n",
              "      <td>2018</td>\n",
              "      <td>0</td>\n",
              "    </tr>\n",
              "    <tr>\n",
              "      <th>7314</th>\n",
              "      <td>07xpeB1txX9bPKTwkuflMg</td>\n",
              "      <td>0.036600</td>\n",
              "      <td>0.900</td>\n",
              "      <td>181422</td>\n",
              "      <td>0.610</td>\n",
              "      <td>0.000041</td>\n",
              "      <td>11</td>\n",
              "      <td>0.0979</td>\n",
              "      <td>-9.051</td>\n",
              "      <td>0</td>\n",
              "      <td>0.1140</td>\n",
              "      <td>127.149</td>\n",
              "      <td>4</td>\n",
              "      <td>0.673</td>\n",
              "      <td>56</td>\n",
              "      <td>47.0</td>\n",
              "      <td>2019</td>\n",
              "      <td>0</td>\n",
              "    </tr>\n",
              "    <tr>\n",
              "      <th>7315</th>\n",
              "      <td>1riDpTEzPc80x3yPhDOS1Y</td>\n",
              "      <td>0.085800</td>\n",
              "      <td>0.736</td>\n",
              "      <td>150767</td>\n",
              "      <td>0.604</td>\n",
              "      <td>0.000000</td>\n",
              "      <td>10</td>\n",
              "      <td>0.4350</td>\n",
              "      <td>-7.769</td>\n",
              "      <td>0</td>\n",
              "      <td>0.2650</td>\n",
              "      <td>77.956</td>\n",
              "      <td>4</td>\n",
              "      <td>0.687</td>\n",
              "      <td>21</td>\n",
              "      <td>36.0</td>\n",
              "      <td>2019</td>\n",
              "      <td>0</td>\n",
              "    </tr>\n",
              "  </tbody>\n",
              "</table>\n",
              "</div>"
            ],
            "text/plain": [
              "                          id  acousticness  ...  year  hit\n",
              "7311  5TnLXSd4h6G06Fbt2ApOpa      0.089900  ...  2019    0\n",
              "7312  748Vnqa1Rpwteiarxartiz      0.286000  ...  2019    0\n",
              "7313  22GEETI4LXhhePCO71PyEv      0.000181  ...  2018    0\n",
              "7314  07xpeB1txX9bPKTwkuflMg      0.036600  ...  2019    0\n",
              "7315  1riDpTEzPc80x3yPhDOS1Y      0.085800  ...  2019    0\n",
              "\n",
              "[5 rows x 18 columns]"
            ]
          },
          "metadata": {
            "tags": []
          },
          "execution_count": 7
        }
      ]
    },
    {
      "cell_type": "markdown",
      "metadata": {
        "id": "Ie3ykS2_bGs1"
      },
      "source": [
        "shape of the dataset (number of rows & columns in dataset)"
      ]
    },
    {
      "cell_type": "code",
      "metadata": {
        "colab": {
          "base_uri": "https://localhost:8080/"
        },
        "id": "ewBNo0izWnsi",
        "outputId": "a3e9b7ad-a71e-4139-c415-3d89b20a5f17"
      },
      "source": [
        "spotify_data.shape"
      ],
      "execution_count": null,
      "outputs": [
        {
          "output_type": "execute_result",
          "data": {
            "text/plain": [
              "(7316, 18)"
            ]
          },
          "metadata": {
            "tags": []
          },
          "execution_count": 8
        }
      ]
    },
    {
      "cell_type": "markdown",
      "metadata": {
        "id": "1PnIJKjVgkbE"
      },
      "source": [
        "Columns present in the dataset are"
      ]
    },
    {
      "cell_type": "code",
      "metadata": {
        "colab": {
          "base_uri": "https://localhost:8080/"
        },
        "id": "aHJf3NpyaW7H",
        "outputId": "32a5d5e2-a664-48e1-af18-a1c019e3fcb3"
      },
      "source": [
        "spotify_data.columns"
      ],
      "execution_count": null,
      "outputs": [
        {
          "output_type": "execute_result",
          "data": {
            "text/plain": [
              "Index(['id', 'acousticness', 'danceability', 'duration_ms', 'energy',\n",
              "       'instrumentalness', 'key', 'liveness', 'loudness', 'mode',\n",
              "       'speechiness', 'tempo', 'time_signature', 'valence', 'track_popularity',\n",
              "       'artist_popularity', 'year', 'hit'],\n",
              "      dtype='object')"
            ]
          },
          "metadata": {
            "tags": []
          },
          "execution_count": 17
        }
      ]
    },
    {
      "cell_type": "markdown",
      "metadata": {
        "id": "LkEDuqypfC79"
      },
      "source": [
        "In dataset we can remove the column ID as it is not much useful and also removing that makes our dataset more readable"
      ]
    },
    {
      "cell_type": "code",
      "metadata": {
        "colab": {
          "base_uri": "https://localhost:8080/",
          "height": 422
        },
        "id": "8NxJrQQCfCcC",
        "outputId": "6108b8fc-fa6a-4b16-a136-7e0c0ffc09a4"
      },
      "source": [
        "spotify_data.drop('id', inplace=True, axis=1)\n",
        "spotify_data"
      ],
      "execution_count": null,
      "outputs": [
        {
          "output_type": "execute_result",
          "data": {
            "text/html": [
              "<div>\n",
              "<style scoped>\n",
              "    .dataframe tbody tr th:only-of-type {\n",
              "        vertical-align: middle;\n",
              "    }\n",
              "\n",
              "    .dataframe tbody tr th {\n",
              "        vertical-align: top;\n",
              "    }\n",
              "\n",
              "    .dataframe thead th {\n",
              "        text-align: right;\n",
              "    }\n",
              "</style>\n",
              "<table border=\"1\" class=\"dataframe\">\n",
              "  <thead>\n",
              "    <tr style=\"text-align: right;\">\n",
              "      <th></th>\n",
              "      <th>acousticness</th>\n",
              "      <th>danceability</th>\n",
              "      <th>duration_ms</th>\n",
              "      <th>energy</th>\n",
              "      <th>instrumentalness</th>\n",
              "      <th>key</th>\n",
              "      <th>liveness</th>\n",
              "      <th>loudness</th>\n",
              "      <th>mode</th>\n",
              "      <th>speechiness</th>\n",
              "      <th>tempo</th>\n",
              "      <th>time_signature</th>\n",
              "      <th>valence</th>\n",
              "      <th>track_popularity</th>\n",
              "      <th>artist_popularity</th>\n",
              "      <th>year</th>\n",
              "      <th>hit</th>\n",
              "    </tr>\n",
              "  </thead>\n",
              "  <tbody>\n",
              "    <tr>\n",
              "      <th>0</th>\n",
              "      <td>0.009400</td>\n",
              "      <td>0.887</td>\n",
              "      <td>193200</td>\n",
              "      <td>0.480</td>\n",
              "      <td>0.000036</td>\n",
              "      <td>11</td>\n",
              "      <td>0.0662</td>\n",
              "      <td>-11.994</td>\n",
              "      <td>1</td>\n",
              "      <td>0.1170</td>\n",
              "      <td>95.846</td>\n",
              "      <td>4</td>\n",
              "      <td>0.607</td>\n",
              "      <td>76</td>\n",
              "      <td>78.0</td>\n",
              "      <td>2016</td>\n",
              "      <td>1</td>\n",
              "    </tr>\n",
              "    <tr>\n",
              "      <th>1</th>\n",
              "      <td>0.204000</td>\n",
              "      <td>0.776</td>\n",
              "      <td>243400</td>\n",
              "      <td>0.703</td>\n",
              "      <td>0.000000</td>\n",
              "      <td>0</td>\n",
              "      <td>0.3360</td>\n",
              "      <td>-10.696</td>\n",
              "      <td>1</td>\n",
              "      <td>0.0427</td>\n",
              "      <td>112.534</td>\n",
              "      <td>4</td>\n",
              "      <td>0.939</td>\n",
              "      <td>66</td>\n",
              "      <td>73.0</td>\n",
              "      <td>2016</td>\n",
              "      <td>1</td>\n",
              "    </tr>\n",
              "    <tr>\n",
              "      <th>2</th>\n",
              "      <td>0.420000</td>\n",
              "      <td>0.503</td>\n",
              "      <td>171827</td>\n",
              "      <td>0.465</td>\n",
              "      <td>0.000000</td>\n",
              "      <td>8</td>\n",
              "      <td>0.1010</td>\n",
              "      <td>-8.077</td>\n",
              "      <td>0</td>\n",
              "      <td>0.0274</td>\n",
              "      <td>141.796</td>\n",
              "      <td>4</td>\n",
              "      <td>0.143</td>\n",
              "      <td>64</td>\n",
              "      <td>91.0</td>\n",
              "      <td>2016</td>\n",
              "      <td>1</td>\n",
              "    </tr>\n",
              "    <tr>\n",
              "      <th>3</th>\n",
              "      <td>0.232000</td>\n",
              "      <td>0.583</td>\n",
              "      <td>302600</td>\n",
              "      <td>0.545</td>\n",
              "      <td>0.000000</td>\n",
              "      <td>2</td>\n",
              "      <td>0.1330</td>\n",
              "      <td>-11.698</td>\n",
              "      <td>0</td>\n",
              "      <td>0.0351</td>\n",
              "      <td>153.250</td>\n",
              "      <td>4</td>\n",
              "      <td>0.800</td>\n",
              "      <td>64</td>\n",
              "      <td>78.0</td>\n",
              "      <td>2016</td>\n",
              "      <td>1</td>\n",
              "    </tr>\n",
              "    <tr>\n",
              "      <th>4</th>\n",
              "      <td>0.273000</td>\n",
              "      <td>0.781</td>\n",
              "      <td>193181</td>\n",
              "      <td>0.570</td>\n",
              "      <td>0.000000</td>\n",
              "      <td>11</td>\n",
              "      <td>0.1960</td>\n",
              "      <td>-5.874</td>\n",
              "      <td>0</td>\n",
              "      <td>0.1880</td>\n",
              "      <td>107.059</td>\n",
              "      <td>4</td>\n",
              "      <td>0.858</td>\n",
              "      <td>59</td>\n",
              "      <td>72.0</td>\n",
              "      <td>2016</td>\n",
              "      <td>1</td>\n",
              "    </tr>\n",
              "    <tr>\n",
              "      <th>...</th>\n",
              "      <td>...</td>\n",
              "      <td>...</td>\n",
              "      <td>...</td>\n",
              "      <td>...</td>\n",
              "      <td>...</td>\n",
              "      <td>...</td>\n",
              "      <td>...</td>\n",
              "      <td>...</td>\n",
              "      <td>...</td>\n",
              "      <td>...</td>\n",
              "      <td>...</td>\n",
              "      <td>...</td>\n",
              "      <td>...</td>\n",
              "      <td>...</td>\n",
              "      <td>...</td>\n",
              "      <td>...</td>\n",
              "      <td>...</td>\n",
              "    </tr>\n",
              "    <tr>\n",
              "      <th>7311</th>\n",
              "      <td>0.089900</td>\n",
              "      <td>0.857</td>\n",
              "      <td>162400</td>\n",
              "      <td>0.583</td>\n",
              "      <td>0.000000</td>\n",
              "      <td>1</td>\n",
              "      <td>0.2040</td>\n",
              "      <td>-7.466</td>\n",
              "      <td>0</td>\n",
              "      <td>0.0860</td>\n",
              "      <td>132.010</td>\n",
              "      <td>4</td>\n",
              "      <td>0.443</td>\n",
              "      <td>72</td>\n",
              "      <td>95.0</td>\n",
              "      <td>2019</td>\n",
              "      <td>0</td>\n",
              "    </tr>\n",
              "    <tr>\n",
              "      <th>7312</th>\n",
              "      <td>0.286000</td>\n",
              "      <td>0.895</td>\n",
              "      <td>211480</td>\n",
              "      <td>0.407</td>\n",
              "      <td>0.000002</td>\n",
              "      <td>6</td>\n",
              "      <td>0.1260</td>\n",
              "      <td>-11.807</td>\n",
              "      <td>1</td>\n",
              "      <td>0.0542</td>\n",
              "      <td>119.030</td>\n",
              "      <td>4</td>\n",
              "      <td>0.677</td>\n",
              "      <td>53</td>\n",
              "      <td>65.0</td>\n",
              "      <td>2019</td>\n",
              "      <td>0</td>\n",
              "    </tr>\n",
              "    <tr>\n",
              "      <th>7313</th>\n",
              "      <td>0.000181</td>\n",
              "      <td>0.362</td>\n",
              "      <td>177048</td>\n",
              "      <td>0.915</td>\n",
              "      <td>0.000000</td>\n",
              "      <td>5</td>\n",
              "      <td>0.1660</td>\n",
              "      <td>-3.244</td>\n",
              "      <td>0</td>\n",
              "      <td>0.1810</td>\n",
              "      <td>162.226</td>\n",
              "      <td>4</td>\n",
              "      <td>0.603</td>\n",
              "      <td>60</td>\n",
              "      <td>73.0</td>\n",
              "      <td>2018</td>\n",
              "      <td>0</td>\n",
              "    </tr>\n",
              "    <tr>\n",
              "      <th>7314</th>\n",
              "      <td>0.036600</td>\n",
              "      <td>0.900</td>\n",
              "      <td>181422</td>\n",
              "      <td>0.610</td>\n",
              "      <td>0.000041</td>\n",
              "      <td>11</td>\n",
              "      <td>0.0979</td>\n",
              "      <td>-9.051</td>\n",
              "      <td>0</td>\n",
              "      <td>0.1140</td>\n",
              "      <td>127.149</td>\n",
              "      <td>4</td>\n",
              "      <td>0.673</td>\n",
              "      <td>56</td>\n",
              "      <td>47.0</td>\n",
              "      <td>2019</td>\n",
              "      <td>0</td>\n",
              "    </tr>\n",
              "    <tr>\n",
              "      <th>7315</th>\n",
              "      <td>0.085800</td>\n",
              "      <td>0.736</td>\n",
              "      <td>150767</td>\n",
              "      <td>0.604</td>\n",
              "      <td>0.000000</td>\n",
              "      <td>10</td>\n",
              "      <td>0.4350</td>\n",
              "      <td>-7.769</td>\n",
              "      <td>0</td>\n",
              "      <td>0.2650</td>\n",
              "      <td>77.956</td>\n",
              "      <td>4</td>\n",
              "      <td>0.687</td>\n",
              "      <td>21</td>\n",
              "      <td>36.0</td>\n",
              "      <td>2019</td>\n",
              "      <td>0</td>\n",
              "    </tr>\n",
              "  </tbody>\n",
              "</table>\n",
              "<p>7316 rows × 17 columns</p>\n",
              "</div>"
            ],
            "text/plain": [
              "      acousticness  danceability  duration_ms  ...  artist_popularity  year  hit\n",
              "0         0.009400         0.887       193200  ...               78.0  2016    1\n",
              "1         0.204000         0.776       243400  ...               73.0  2016    1\n",
              "2         0.420000         0.503       171827  ...               91.0  2016    1\n",
              "3         0.232000         0.583       302600  ...               78.0  2016    1\n",
              "4         0.273000         0.781       193181  ...               72.0  2016    1\n",
              "...            ...           ...          ...  ...                ...   ...  ...\n",
              "7311      0.089900         0.857       162400  ...               95.0  2019    0\n",
              "7312      0.286000         0.895       211480  ...               65.0  2019    0\n",
              "7313      0.000181         0.362       177048  ...               73.0  2018    0\n",
              "7314      0.036600         0.900       181422  ...               47.0  2019    0\n",
              "7315      0.085800         0.736       150767  ...               36.0  2019    0\n",
              "\n",
              "[7316 rows x 17 columns]"
            ]
          },
          "metadata": {
            "tags": []
          },
          "execution_count": 18
        }
      ]
    },
    {
      "cell_type": "markdown",
      "metadata": {
        "id": "LrYxGJHtgt6l"
      },
      "source": [
        "information of columns/attributes in dataset after removing column ID"
      ]
    },
    {
      "cell_type": "code",
      "metadata": {
        "colab": {
          "base_uri": "https://localhost:8080/"
        },
        "id": "6mwX7HVlfWMT",
        "outputId": "0664987d-fd3b-4138-9e78-136b5d60403a"
      },
      "source": [
        "spotify_data.info()"
      ],
      "execution_count": null,
      "outputs": [
        {
          "output_type": "stream",
          "text": [
            "<class 'pandas.core.frame.DataFrame'>\n",
            "RangeIndex: 7316 entries, 0 to 7315\n",
            "Data columns (total 17 columns):\n",
            " #   Column             Non-Null Count  Dtype  \n",
            "---  ------             --------------  -----  \n",
            " 0   acousticness       7316 non-null   float64\n",
            " 1   danceability       7316 non-null   float64\n",
            " 2   duration_ms        7316 non-null   int64  \n",
            " 3   energy             7316 non-null   float64\n",
            " 4   instrumentalness   7316 non-null   float64\n",
            " 5   key                7316 non-null   int64  \n",
            " 6   liveness           7316 non-null   float64\n",
            " 7   loudness           7316 non-null   float64\n",
            " 8   mode               7316 non-null   int64  \n",
            " 9   speechiness        7316 non-null   float64\n",
            " 10  tempo              7316 non-null   float64\n",
            " 11  time_signature     7316 non-null   int64  \n",
            " 12  valence            7316 non-null   float64\n",
            " 13  track_popularity   7316 non-null   int64  \n",
            " 14  artist_popularity  7316 non-null   float64\n",
            " 15  year               7316 non-null   int64  \n",
            " 16  hit                7316 non-null   int64  \n",
            "dtypes: float64(10), int64(7)\n",
            "memory usage: 971.8 KB\n"
          ],
          "name": "stdout"
        }
      ]
    },
    {
      "cell_type": "markdown",
      "metadata": {
        "id": "FRnZPPBMWtpq"
      },
      "source": [
        "Summary of statistics on numerical data"
      ]
    },
    {
      "cell_type": "code",
      "metadata": {
        "colab": {
          "base_uri": "https://localhost:8080/",
          "height": 304
        },
        "id": "amPaxI8MWppa",
        "outputId": "b77f8cc9-7d1f-4c1e-de88-99f6713138f3"
      },
      "source": [
        "spotify_data.describe()"
      ],
      "execution_count": null,
      "outputs": [
        {
          "output_type": "execute_result",
          "data": {
            "text/html": [
              "<div>\n",
              "<style scoped>\n",
              "    .dataframe tbody tr th:only-of-type {\n",
              "        vertical-align: middle;\n",
              "    }\n",
              "\n",
              "    .dataframe tbody tr th {\n",
              "        vertical-align: top;\n",
              "    }\n",
              "\n",
              "    .dataframe thead th {\n",
              "        text-align: right;\n",
              "    }\n",
              "</style>\n",
              "<table border=\"1\" class=\"dataframe\">\n",
              "  <thead>\n",
              "    <tr style=\"text-align: right;\">\n",
              "      <th></th>\n",
              "      <th>acousticness</th>\n",
              "      <th>danceability</th>\n",
              "      <th>duration_ms</th>\n",
              "      <th>energy</th>\n",
              "      <th>instrumentalness</th>\n",
              "      <th>key</th>\n",
              "      <th>liveness</th>\n",
              "      <th>loudness</th>\n",
              "      <th>mode</th>\n",
              "      <th>speechiness</th>\n",
              "      <th>tempo</th>\n",
              "      <th>time_signature</th>\n",
              "      <th>valence</th>\n",
              "      <th>track_popularity</th>\n",
              "      <th>artist_popularity</th>\n",
              "      <th>year</th>\n",
              "      <th>hit</th>\n",
              "    </tr>\n",
              "  </thead>\n",
              "  <tbody>\n",
              "    <tr>\n",
              "      <th>count</th>\n",
              "      <td>7316.000000</td>\n",
              "      <td>7316.000000</td>\n",
              "      <td>7.316000e+03</td>\n",
              "      <td>7316.000000</td>\n",
              "      <td>7316.000000</td>\n",
              "      <td>7316.000000</td>\n",
              "      <td>7316.000000</td>\n",
              "      <td>7316.000000</td>\n",
              "      <td>7316.000000</td>\n",
              "      <td>7316.000000</td>\n",
              "      <td>7316.000000</td>\n",
              "      <td>7316.000000</td>\n",
              "      <td>7316.000000</td>\n",
              "      <td>7316.000000</td>\n",
              "      <td>7316.000000</td>\n",
              "      <td>7316.000000</td>\n",
              "      <td>7316.000000</td>\n",
              "    </tr>\n",
              "    <tr>\n",
              "      <th>mean</th>\n",
              "      <td>0.307598</td>\n",
              "      <td>0.629965</td>\n",
              "      <td>2.085889e+05</td>\n",
              "      <td>0.580205</td>\n",
              "      <td>0.093891</td>\n",
              "      <td>5.183980</td>\n",
              "      <td>0.170513</td>\n",
              "      <td>-8.016135</td>\n",
              "      <td>0.604019</td>\n",
              "      <td>0.107349</td>\n",
              "      <td>120.267395</td>\n",
              "      <td>3.939995</td>\n",
              "      <td>0.448518</td>\n",
              "      <td>53.135046</td>\n",
              "      <td>69.869450</td>\n",
              "      <td>2018.200383</td>\n",
              "      <td>0.396118</td>\n",
              "    </tr>\n",
              "    <tr>\n",
              "      <th>std</th>\n",
              "      <td>0.319017</td>\n",
              "      <td>0.163005</td>\n",
              "      <td>5.485317e+04</td>\n",
              "      <td>0.228295</td>\n",
              "      <td>0.254230</td>\n",
              "      <td>3.610541</td>\n",
              "      <td>0.127278</td>\n",
              "      <td>4.972786</td>\n",
              "      <td>0.489094</td>\n",
              "      <td>0.109572</td>\n",
              "      <td>30.585949</td>\n",
              "      <td>0.357835</td>\n",
              "      <td>0.225768</td>\n",
              "      <td>23.268555</td>\n",
              "      <td>20.429041</td>\n",
              "      <td>0.930991</td>\n",
              "      <td>0.489123</td>\n",
              "    </tr>\n",
              "    <tr>\n",
              "      <th>min</th>\n",
              "      <td>0.000002</td>\n",
              "      <td>0.000000</td>\n",
              "      <td>1.146800e+04</td>\n",
              "      <td>0.001630</td>\n",
              "      <td>0.000000</td>\n",
              "      <td>0.000000</td>\n",
              "      <td>0.019700</td>\n",
              "      <td>-39.959000</td>\n",
              "      <td>0.000000</td>\n",
              "      <td>0.000000</td>\n",
              "      <td>0.000000</td>\n",
              "      <td>0.000000</td>\n",
              "      <td>0.000000</td>\n",
              "      <td>0.000000</td>\n",
              "      <td>0.000000</td>\n",
              "      <td>2016.000000</td>\n",
              "      <td>0.000000</td>\n",
              "    </tr>\n",
              "    <tr>\n",
              "      <th>25%</th>\n",
              "      <td>0.044100</td>\n",
              "      <td>0.518750</td>\n",
              "      <td>1.772270e+05</td>\n",
              "      <td>0.449000</td>\n",
              "      <td>0.000000</td>\n",
              "      <td>2.000000</td>\n",
              "      <td>0.097900</td>\n",
              "      <td>-8.980000</td>\n",
              "      <td>0.000000</td>\n",
              "      <td>0.038400</td>\n",
              "      <td>95.984500</td>\n",
              "      <td>4.000000</td>\n",
              "      <td>0.264000</td>\n",
              "      <td>40.000000</td>\n",
              "      <td>54.000000</td>\n",
              "      <td>2018.000000</td>\n",
              "      <td>0.000000</td>\n",
              "    </tr>\n",
              "    <tr>\n",
              "      <th>50%</th>\n",
              "      <td>0.175000</td>\n",
              "      <td>0.646000</td>\n",
              "      <td>2.036310e+05</td>\n",
              "      <td>0.613000</td>\n",
              "      <td>0.000002</td>\n",
              "      <td>5.000000</td>\n",
              "      <td>0.119000</td>\n",
              "      <td>-6.675500</td>\n",
              "      <td>1.000000</td>\n",
              "      <td>0.058300</td>\n",
              "      <td>119.796500</td>\n",
              "      <td>4.000000</td>\n",
              "      <td>0.433000</td>\n",
              "      <td>59.000000</td>\n",
              "      <td>75.000000</td>\n",
              "      <td>2018.000000</td>\n",
              "      <td>0.000000</td>\n",
              "    </tr>\n",
              "    <tr>\n",
              "      <th>75%</th>\n",
              "      <td>0.512000</td>\n",
              "      <td>0.751000</td>\n",
              "      <td>2.319070e+05</td>\n",
              "      <td>0.745000</td>\n",
              "      <td>0.001240</td>\n",
              "      <td>8.000000</td>\n",
              "      <td>0.196000</td>\n",
              "      <td>-5.077000</td>\n",
              "      <td>1.000000</td>\n",
              "      <td>0.128000</td>\n",
              "      <td>140.975000</td>\n",
              "      <td>4.000000</td>\n",
              "      <td>0.618000</td>\n",
              "      <td>71.000000</td>\n",
              "      <td>87.000000</td>\n",
              "      <td>2019.000000</td>\n",
              "      <td>1.000000</td>\n",
              "    </tr>\n",
              "    <tr>\n",
              "      <th>max</th>\n",
              "      <td>0.996000</td>\n",
              "      <td>0.981000</td>\n",
              "      <td>1.004627e+06</td>\n",
              "      <td>0.997000</td>\n",
              "      <td>0.977000</td>\n",
              "      <td>11.000000</td>\n",
              "      <td>0.988000</td>\n",
              "      <td>0.175000</td>\n",
              "      <td>1.000000</td>\n",
              "      <td>0.966000</td>\n",
              "      <td>212.117000</td>\n",
              "      <td>5.000000</td>\n",
              "      <td>0.982000</td>\n",
              "      <td>100.000000</td>\n",
              "      <td>100.000000</td>\n",
              "      <td>2019.000000</td>\n",
              "      <td>1.000000</td>\n",
              "    </tr>\n",
              "  </tbody>\n",
              "</table>\n",
              "</div>"
            ],
            "text/plain": [
              "       acousticness  danceability  ...         year          hit\n",
              "count   7316.000000   7316.000000  ...  7316.000000  7316.000000\n",
              "mean       0.307598      0.629965  ...  2018.200383     0.396118\n",
              "std        0.319017      0.163005  ...     0.930991     0.489123\n",
              "min        0.000002      0.000000  ...  2016.000000     0.000000\n",
              "25%        0.044100      0.518750  ...  2018.000000     0.000000\n",
              "50%        0.175000      0.646000  ...  2018.000000     0.000000\n",
              "75%        0.512000      0.751000  ...  2019.000000     1.000000\n",
              "max        0.996000      0.981000  ...  2019.000000     1.000000\n",
              "\n",
              "[8 rows x 17 columns]"
            ]
          },
          "metadata": {
            "tags": []
          },
          "execution_count": 10
        }
      ]
    },
    {
      "cell_type": "markdown",
      "metadata": {
        "id": "N8JrU7ijg-8y"
      },
      "source": [
        "correlation between the attributes that tells how they are related with one another"
      ]
    },
    {
      "cell_type": "code",
      "metadata": {
        "colab": {
          "base_uri": "https://localhost:8080/",
          "height": 570
        },
        "id": "NucuDVupWxwx",
        "outputId": "2b148426-32e3-4863-cee4-4e8e6f067e76"
      },
      "source": [
        "corr = spotify_data.corr()\n",
        "corr"
      ],
      "execution_count": null,
      "outputs": [
        {
          "output_type": "execute_result",
          "data": {
            "text/html": [
              "<div>\n",
              "<style scoped>\n",
              "    .dataframe tbody tr th:only-of-type {\n",
              "        vertical-align: middle;\n",
              "    }\n",
              "\n",
              "    .dataframe tbody tr th {\n",
              "        vertical-align: top;\n",
              "    }\n",
              "\n",
              "    .dataframe thead th {\n",
              "        text-align: right;\n",
              "    }\n",
              "</style>\n",
              "<table border=\"1\" class=\"dataframe\">\n",
              "  <thead>\n",
              "    <tr style=\"text-align: right;\">\n",
              "      <th></th>\n",
              "      <th>acousticness</th>\n",
              "      <th>danceability</th>\n",
              "      <th>duration_ms</th>\n",
              "      <th>energy</th>\n",
              "      <th>instrumentalness</th>\n",
              "      <th>key</th>\n",
              "      <th>liveness</th>\n",
              "      <th>loudness</th>\n",
              "      <th>mode</th>\n",
              "      <th>speechiness</th>\n",
              "      <th>tempo</th>\n",
              "      <th>time_signature</th>\n",
              "      <th>valence</th>\n",
              "      <th>track_popularity</th>\n",
              "      <th>artist_popularity</th>\n",
              "      <th>year</th>\n",
              "      <th>hit</th>\n",
              "    </tr>\n",
              "  </thead>\n",
              "  <tbody>\n",
              "    <tr>\n",
              "      <th>acousticness</th>\n",
              "      <td>1.000000</td>\n",
              "      <td>-0.348729</td>\n",
              "      <td>0.031851</td>\n",
              "      <td>-0.741738</td>\n",
              "      <td>0.448284</td>\n",
              "      <td>0.003328</td>\n",
              "      <td>-0.146108</td>\n",
              "      <td>-0.678751</td>\n",
              "      <td>0.038022</td>\n",
              "      <td>-0.174548</td>\n",
              "      <td>-0.170832</td>\n",
              "      <td>-0.183673</td>\n",
              "      <td>-0.257062</td>\n",
              "      <td>-0.015654</td>\n",
              "      <td>-0.194454</td>\n",
              "      <td>-0.050053</td>\n",
              "      <td>-0.217281</td>\n",
              "    </tr>\n",
              "    <tr>\n",
              "      <th>danceability</th>\n",
              "      <td>-0.348729</td>\n",
              "      <td>1.000000</td>\n",
              "      <td>-0.180647</td>\n",
              "      <td>0.244013</td>\n",
              "      <td>-0.342786</td>\n",
              "      <td>0.006174</td>\n",
              "      <td>-0.026859</td>\n",
              "      <td>0.367401</td>\n",
              "      <td>-0.084362</td>\n",
              "      <td>0.287548</td>\n",
              "      <td>-0.005573</td>\n",
              "      <td>0.182378</td>\n",
              "      <td>0.396193</td>\n",
              "      <td>0.128355</td>\n",
              "      <td>0.310643</td>\n",
              "      <td>0.043101</td>\n",
              "      <td>0.278788</td>\n",
              "    </tr>\n",
              "    <tr>\n",
              "      <th>duration_ms</th>\n",
              "      <td>0.031851</td>\n",
              "      <td>-0.180647</td>\n",
              "      <td>1.000000</td>\n",
              "      <td>-0.010186</td>\n",
              "      <td>-0.000416</td>\n",
              "      <td>-0.000423</td>\n",
              "      <td>0.024249</td>\n",
              "      <td>0.016188</td>\n",
              "      <td>0.029001</td>\n",
              "      <td>-0.109887</td>\n",
              "      <td>-0.011250</td>\n",
              "      <td>-0.021636</td>\n",
              "      <td>-0.148478</td>\n",
              "      <td>-0.055342</td>\n",
              "      <td>-0.054552</td>\n",
              "      <td>-0.094674</td>\n",
              "      <td>-0.036604</td>\n",
              "    </tr>\n",
              "    <tr>\n",
              "      <th>energy</th>\n",
              "      <td>-0.741738</td>\n",
              "      <td>0.244013</td>\n",
              "      <td>-0.010186</td>\n",
              "      <td>1.000000</td>\n",
              "      <td>-0.457396</td>\n",
              "      <td>0.008901</td>\n",
              "      <td>0.192097</td>\n",
              "      <td>0.808419</td>\n",
              "      <td>-0.052688</td>\n",
              "      <td>0.112024</td>\n",
              "      <td>0.181401</td>\n",
              "      <td>0.183950</td>\n",
              "      <td>0.423511</td>\n",
              "      <td>0.006957</td>\n",
              "      <td>0.134145</td>\n",
              "      <td>0.081438</td>\n",
              "      <td>0.188716</td>\n",
              "    </tr>\n",
              "    <tr>\n",
              "      <th>instrumentalness</th>\n",
              "      <td>0.448284</td>\n",
              "      <td>-0.342786</td>\n",
              "      <td>-0.000416</td>\n",
              "      <td>-0.457396</td>\n",
              "      <td>1.000000</td>\n",
              "      <td>-0.019138</td>\n",
              "      <td>-0.084331</td>\n",
              "      <td>-0.691304</td>\n",
              "      <td>-0.015184</td>\n",
              "      <td>-0.179040</td>\n",
              "      <td>-0.085750</td>\n",
              "      <td>-0.140441</td>\n",
              "      <td>-0.257592</td>\n",
              "      <td>-0.037117</td>\n",
              "      <td>-0.295909</td>\n",
              "      <td>0.039293</td>\n",
              "      <td>-0.268660</td>\n",
              "    </tr>\n",
              "    <tr>\n",
              "      <th>key</th>\n",
              "      <td>0.003328</td>\n",
              "      <td>0.006174</td>\n",
              "      <td>-0.000423</td>\n",
              "      <td>0.008901</td>\n",
              "      <td>-0.019138</td>\n",
              "      <td>1.000000</td>\n",
              "      <td>0.004873</td>\n",
              "      <td>0.003207</td>\n",
              "      <td>-0.149255</td>\n",
              "      <td>0.012019</td>\n",
              "      <td>-0.009733</td>\n",
              "      <td>0.012038</td>\n",
              "      <td>0.043913</td>\n",
              "      <td>0.023138</td>\n",
              "      <td>0.019457</td>\n",
              "      <td>0.020062</td>\n",
              "      <td>0.014772</td>\n",
              "    </tr>\n",
              "    <tr>\n",
              "      <th>liveness</th>\n",
              "      <td>-0.146108</td>\n",
              "      <td>-0.026859</td>\n",
              "      <td>0.024249</td>\n",
              "      <td>0.192097</td>\n",
              "      <td>-0.084331</td>\n",
              "      <td>0.004873</td>\n",
              "      <td>1.000000</td>\n",
              "      <td>0.137881</td>\n",
              "      <td>0.010411</td>\n",
              "      <td>0.068491</td>\n",
              "      <td>0.024313</td>\n",
              "      <td>0.017484</td>\n",
              "      <td>0.054747</td>\n",
              "      <td>-0.019958</td>\n",
              "      <td>-0.001207</td>\n",
              "      <td>-0.000112</td>\n",
              "      <td>0.025630</td>\n",
              "    </tr>\n",
              "    <tr>\n",
              "      <th>loudness</th>\n",
              "      <td>-0.678751</td>\n",
              "      <td>0.367401</td>\n",
              "      <td>0.016188</td>\n",
              "      <td>0.808419</td>\n",
              "      <td>-0.691304</td>\n",
              "      <td>0.003207</td>\n",
              "      <td>0.137881</td>\n",
              "      <td>1.000000</td>\n",
              "      <td>-0.021354</td>\n",
              "      <td>0.114551</td>\n",
              "      <td>0.143503</td>\n",
              "      <td>0.191849</td>\n",
              "      <td>0.356830</td>\n",
              "      <td>0.040815</td>\n",
              "      <td>0.268365</td>\n",
              "      <td>0.022986</td>\n",
              "      <td>0.274264</td>\n",
              "    </tr>\n",
              "    <tr>\n",
              "      <th>mode</th>\n",
              "      <td>0.038022</td>\n",
              "      <td>-0.084362</td>\n",
              "      <td>0.029001</td>\n",
              "      <td>-0.052688</td>\n",
              "      <td>-0.015184</td>\n",
              "      <td>-0.149255</td>\n",
              "      <td>0.010411</td>\n",
              "      <td>-0.021354</td>\n",
              "      <td>1.000000</td>\n",
              "      <td>-0.073782</td>\n",
              "      <td>0.006590</td>\n",
              "      <td>-0.018618</td>\n",
              "      <td>-0.047143</td>\n",
              "      <td>-0.023181</td>\n",
              "      <td>-0.029098</td>\n",
              "      <td>-0.028669</td>\n",
              "      <td>-0.047685</td>\n",
              "    </tr>\n",
              "    <tr>\n",
              "      <th>speechiness</th>\n",
              "      <td>-0.174548</td>\n",
              "      <td>0.287548</td>\n",
              "      <td>-0.109887</td>\n",
              "      <td>0.112024</td>\n",
              "      <td>-0.179040</td>\n",
              "      <td>0.012019</td>\n",
              "      <td>0.068491</td>\n",
              "      <td>0.114551</td>\n",
              "      <td>-0.073782</td>\n",
              "      <td>1.000000</td>\n",
              "      <td>0.148885</td>\n",
              "      <td>0.095589</td>\n",
              "      <td>0.089592</td>\n",
              "      <td>0.084188</td>\n",
              "      <td>0.222824</td>\n",
              "      <td>0.024348</td>\n",
              "      <td>0.177512</td>\n",
              "    </tr>\n",
              "    <tr>\n",
              "      <th>tempo</th>\n",
              "      <td>-0.170832</td>\n",
              "      <td>-0.005573</td>\n",
              "      <td>-0.011250</td>\n",
              "      <td>0.181401</td>\n",
              "      <td>-0.085750</td>\n",
              "      <td>-0.009733</td>\n",
              "      <td>0.024313</td>\n",
              "      <td>0.143503</td>\n",
              "      <td>0.006590</td>\n",
              "      <td>0.148885</td>\n",
              "      <td>1.000000</td>\n",
              "      <td>0.009007</td>\n",
              "      <td>0.060531</td>\n",
              "      <td>-0.010327</td>\n",
              "      <td>0.030106</td>\n",
              "      <td>0.017989</td>\n",
              "      <td>0.031124</td>\n",
              "    </tr>\n",
              "    <tr>\n",
              "      <th>time_signature</th>\n",
              "      <td>-0.183673</td>\n",
              "      <td>0.182378</td>\n",
              "      <td>-0.021636</td>\n",
              "      <td>0.183950</td>\n",
              "      <td>-0.140441</td>\n",
              "      <td>0.012038</td>\n",
              "      <td>0.017484</td>\n",
              "      <td>0.191849</td>\n",
              "      <td>-0.018618</td>\n",
              "      <td>0.095589</td>\n",
              "      <td>0.009007</td>\n",
              "      <td>1.000000</td>\n",
              "      <td>0.116544</td>\n",
              "      <td>0.016604</td>\n",
              "      <td>0.090505</td>\n",
              "      <td>0.016811</td>\n",
              "      <td>0.087397</td>\n",
              "    </tr>\n",
              "    <tr>\n",
              "      <th>valence</th>\n",
              "      <td>-0.257062</td>\n",
              "      <td>0.396193</td>\n",
              "      <td>-0.148478</td>\n",
              "      <td>0.423511</td>\n",
              "      <td>-0.257592</td>\n",
              "      <td>0.043913</td>\n",
              "      <td>0.054747</td>\n",
              "      <td>0.356830</td>\n",
              "      <td>-0.047143</td>\n",
              "      <td>0.089592</td>\n",
              "      <td>0.060531</td>\n",
              "      <td>0.116544</td>\n",
              "      <td>1.000000</td>\n",
              "      <td>0.061731</td>\n",
              "      <td>0.064103</td>\n",
              "      <td>0.065224</td>\n",
              "      <td>0.109153</td>\n",
              "    </tr>\n",
              "    <tr>\n",
              "      <th>track_popularity</th>\n",
              "      <td>-0.015654</td>\n",
              "      <td>0.128355</td>\n",
              "      <td>-0.055342</td>\n",
              "      <td>0.006957</td>\n",
              "      <td>-0.037117</td>\n",
              "      <td>0.023138</td>\n",
              "      <td>-0.019958</td>\n",
              "      <td>0.040815</td>\n",
              "      <td>-0.023181</td>\n",
              "      <td>0.084188</td>\n",
              "      <td>-0.010327</td>\n",
              "      <td>0.016604</td>\n",
              "      <td>0.061731</td>\n",
              "      <td>1.000000</td>\n",
              "      <td>0.420174</td>\n",
              "      <td>0.192991</td>\n",
              "      <td>0.203315</td>\n",
              "    </tr>\n",
              "    <tr>\n",
              "      <th>artist_popularity</th>\n",
              "      <td>-0.194454</td>\n",
              "      <td>0.310643</td>\n",
              "      <td>-0.054552</td>\n",
              "      <td>0.134145</td>\n",
              "      <td>-0.295909</td>\n",
              "      <td>0.019457</td>\n",
              "      <td>-0.001207</td>\n",
              "      <td>0.268365</td>\n",
              "      <td>-0.029098</td>\n",
              "      <td>0.222824</td>\n",
              "      <td>0.030106</td>\n",
              "      <td>0.090505</td>\n",
              "      <td>0.064103</td>\n",
              "      <td>0.420174</td>\n",
              "      <td>1.000000</td>\n",
              "      <td>-0.107945</td>\n",
              "      <td>0.638766</td>\n",
              "    </tr>\n",
              "    <tr>\n",
              "      <th>year</th>\n",
              "      <td>-0.050053</td>\n",
              "      <td>0.043101</td>\n",
              "      <td>-0.094674</td>\n",
              "      <td>0.081438</td>\n",
              "      <td>0.039293</td>\n",
              "      <td>0.020062</td>\n",
              "      <td>-0.000112</td>\n",
              "      <td>0.022986</td>\n",
              "      <td>-0.028669</td>\n",
              "      <td>0.024348</td>\n",
              "      <td>0.017989</td>\n",
              "      <td>0.016811</td>\n",
              "      <td>0.065224</td>\n",
              "      <td>0.192991</td>\n",
              "      <td>-0.107945</td>\n",
              "      <td>1.000000</td>\n",
              "      <td>-0.053950</td>\n",
              "    </tr>\n",
              "    <tr>\n",
              "      <th>hit</th>\n",
              "      <td>-0.217281</td>\n",
              "      <td>0.278788</td>\n",
              "      <td>-0.036604</td>\n",
              "      <td>0.188716</td>\n",
              "      <td>-0.268660</td>\n",
              "      <td>0.014772</td>\n",
              "      <td>0.025630</td>\n",
              "      <td>0.274264</td>\n",
              "      <td>-0.047685</td>\n",
              "      <td>0.177512</td>\n",
              "      <td>0.031124</td>\n",
              "      <td>0.087397</td>\n",
              "      <td>0.109153</td>\n",
              "      <td>0.203315</td>\n",
              "      <td>0.638766</td>\n",
              "      <td>-0.053950</td>\n",
              "      <td>1.000000</td>\n",
              "    </tr>\n",
              "  </tbody>\n",
              "</table>\n",
              "</div>"
            ],
            "text/plain": [
              "                   acousticness  danceability  ...      year       hit\n",
              "acousticness           1.000000     -0.348729  ... -0.050053 -0.217281\n",
              "danceability          -0.348729      1.000000  ...  0.043101  0.278788\n",
              "duration_ms            0.031851     -0.180647  ... -0.094674 -0.036604\n",
              "energy                -0.741738      0.244013  ...  0.081438  0.188716\n",
              "instrumentalness       0.448284     -0.342786  ...  0.039293 -0.268660\n",
              "key                    0.003328      0.006174  ...  0.020062  0.014772\n",
              "liveness              -0.146108     -0.026859  ... -0.000112  0.025630\n",
              "loudness              -0.678751      0.367401  ...  0.022986  0.274264\n",
              "mode                   0.038022     -0.084362  ... -0.028669 -0.047685\n",
              "speechiness           -0.174548      0.287548  ...  0.024348  0.177512\n",
              "tempo                 -0.170832     -0.005573  ...  0.017989  0.031124\n",
              "time_signature        -0.183673      0.182378  ...  0.016811  0.087397\n",
              "valence               -0.257062      0.396193  ...  0.065224  0.109153\n",
              "track_popularity      -0.015654      0.128355  ...  0.192991  0.203315\n",
              "artist_popularity     -0.194454      0.310643  ... -0.107945  0.638766\n",
              "year                  -0.050053      0.043101  ...  1.000000 -0.053950\n",
              "hit                   -0.217281      0.278788  ... -0.053950  1.000000\n",
              "\n",
              "[17 rows x 17 columns]"
            ]
          },
          "metadata": {
            "tags": []
          },
          "execution_count": 12
        }
      ]
    },
    {
      "cell_type": "markdown",
      "metadata": {
        "id": "F8TyYJ3QhXEX"
      },
      "source": [
        "Visualising the correlation with heatmap"
      ]
    },
    {
      "cell_type": "code",
      "metadata": {
        "colab": {
          "base_uri": "https://localhost:8080/",
          "height": 380
        },
        "id": "M3g0Eqh7W5V8",
        "outputId": "5399626c-5b66-47c1-e15b-34f2da5b568b"
      },
      "source": [
        "heatmap=sns.heatmap(corr,vmax=1, vmin=-1,linewidth=.5,cmap=\"BrBG\")\n",
        "plt.figure(figsize=(16, 6))"
      ],
      "execution_count": null,
      "outputs": [
        {
          "output_type": "execute_result",
          "data": {
            "text/plain": [
              "<Figure size 1152x432 with 0 Axes>"
            ]
          },
          "metadata": {
            "tags": []
          },
          "execution_count": 25
        },
        {
          "output_type": "display_data",
          "data": {
            "image/png": "[encoded data removed]",
            "text/plain": [
              "<Figure size 432x288 with 2 Axes>"
            ]
          },
          "metadata": {
            "tags": [],
            "needs_background": "light"
          }
        },
        {
          "output_type": "display_data",
          "data": {
            "text/plain": [
              "<Figure size 1152x432 with 0 Axes>"
            ]
          },
          "metadata": {
            "tags": []
          }
        }
      ]
    },
    {
      "cell_type": "markdown",
      "metadata": {
        "id": "f9uffLnuiC_I"
      },
      "source": [
        "Checking for null values"
      ]
    },
    {
      "cell_type": "code",
      "metadata": {
        "colab": {
          "base_uri": "https://localhost:8080/"
        },
        "id": "jr9GFPgcXPQ2",
        "outputId": "03a89c15-dc01-428e-d4d0-0406c22ae783"
      },
      "source": [
        "spotify_data.isnull().sum()"
      ],
      "execution_count": null,
      "outputs": [
        {
          "output_type": "execute_result",
          "data": {
            "text/plain": [
              "id                   0\n",
              "acousticness         0\n",
              "danceability         0\n",
              "duration_ms          0\n",
              "energy               0\n",
              "instrumentalness     0\n",
              "key                  0\n",
              "liveness             0\n",
              "loudness             0\n",
              "mode                 0\n",
              "speechiness          0\n",
              "tempo                0\n",
              "time_signature       0\n",
              "valence              0\n",
              "track_popularity     0\n",
              "artist_popularity    0\n",
              "year                 0\n",
              "hit                  0\n",
              "dtype: int64"
            ]
          },
          "metadata": {
            "tags": []
          },
          "execution_count": 16
        }
      ]
    },
    {
      "cell_type": "markdown",
      "metadata": {
        "id": "ED2I_S-Vj-53"
      },
      "source": [
        "There are no null values in the dataset"
      ]
    },
    {
      "cell_type": "markdown",
      "metadata": {
        "id": "r_KPq4-rkDUB"
      },
      "source": [
        "How many songs are released in respective years?"
      ]
    },
    {
      "cell_type": "code",
      "metadata": {
        "colab": {
          "base_uri": "https://localhost:8080/",
          "height": 421
        },
        "id": "oJyt-5OIdGan",
        "outputId": "f29bb13d-8689-4969-d676-79e0dbf64bcf"
      },
      "source": [
        "x=spotify_data.year.value_counts()\n",
        "l=[]\n",
        "for y in x[::-1]:\n",
        "  l.append(y)\n",
        "plt.figure(figsize=(10,6))\n",
        "\n",
        "plt.title(\"NUMBER OF SONGS RELEASED IN RESPECTIVE YEARS\")\n",
        "\n",
        "sns.barplot(x=[2016,2017,2018,2019], y=l)\n",
        "\n",
        "plt.xlabel(\"YEAR\")\n",
        "\n",
        "plt.ylabel(\"NUMBER OF SONGS\")"
      ],
      "execution_count": null,
      "outputs": [
        {
          "output_type": "execute_result",
          "data": {
            "text/plain": [
              "Text(0, 0.5, 'NUMBER OF SONGS')"
            ]
          },
          "metadata": {
            "tags": []
          },
          "execution_count": 30
        },
        {
          "output_type": "display_data",
          "data": {
            "image/png": "[encoded data removed]",
            "text/plain": [
              "<Figure size 720x432 with 1 Axes>"
            ]
          },
          "metadata": {
            "tags": [],
            "needs_background": "light"
          }
        }
      ]
    },
    {
      "cell_type": "markdown",
      "metadata": {
        "id": "9CE90TkK8VXP"
      },
      "source": [
        "How many songs are hit in the respective years?"
      ]
    },
    {
      "cell_type": "code",
      "metadata": {
        "colab": {
          "base_uri": "https://localhost:8080/",
          "height": 329
        },
        "id": "kn7ShHjc8dQr",
        "outputId": "15a34d20-7034-4a9b-b7ee-78693fef3009"
      },
      "source": [
        "hit=[0,0,0,0]\n",
        "for i in range(7316):\n",
        "  if spotify_data.iloc[i]['hit']:\n",
        "    x=spotify_data.iloc[i]['year']\n",
        "    if x==2016:\n",
        "      hit[0]+=1\n",
        "    elif x==2017:\n",
        "      hit[1]+=1\n",
        "    elif x==2018:\n",
        "      hit[2]+=1\n",
        "    else:\n",
        "      hit[3]+=1\n",
        "print(hit)   \n",
        "\n",
        "plt.title(\"NUMBER OF SONGS RELEASED IN RESPECTIVE YEARS\")\n",
        "\n",
        "sns.barplot(x=[2016,2017,2018,2019], y=hit)\n",
        "\n",
        "plt.xlabel(\"YEAR\")\n",
        "\n",
        "plt.ylabel(\"NUMBER OF SONGS\")"
      ],
      "execution_count": null,
      "outputs": [
        {
          "output_type": "stream",
          "text": [
            "[9, 680, 1110, 1099]\n"
          ],
          "name": "stdout"
        },
        {
          "output_type": "execute_result",
          "data": {
            "text/plain": [
              "Text(0, 0.5, 'NUMBER OF SONGS')"
            ]
          },
          "metadata": {
            "tags": []
          },
          "execution_count": 41
        },
        {
          "output_type": "display_data",
          "data": {
            "image/png": "[encoded data removed]",
            "text/plain": [
              "<Figure size 432x288 with 1 Axes>"
            ]
          },
          "metadata": {
            "tags": [],
            "needs_background": "light"
          }
        }
      ]
    },
    {
      "cell_type": "markdown",
      "metadata": {
        "id": "AcasR-KQkWlW"
      },
      "source": [
        "What is the average duration of songs?"
      ]
    },
    {
      "cell_type": "code",
      "metadata": {
        "id": "K4F6nexCeJL-"
      },
      "source": [
        "t=[x for x in range(0,17)]\n",
        "dur=[0]*17\n",
        "for x in spotify_data.duration_ms:\n",
        "  len = x//1000\n",
        "  len = len//60\n",
        "  dur[len]=dur[len]+1\n",
        "  #dur.append(len)"
      ],
      "execution_count": null,
      "outputs": []
    },
    {
      "cell_type": "code",
      "metadata": {
        "colab": {
          "base_uri": "https://localhost:8080/",
          "height": 421
        },
        "id": "wYFKqTI7jBEC",
        "outputId": "b49acab7-88ff-4754-a81d-d89f14202d49"
      },
      "source": [
        "plt.figure(figsize=(10,6))\n",
        "\n",
        "plt.title(\"AVERAGE DURATION OF SONGS\")\n",
        "\n",
        "sns.barplot(x=t, y=dur)\n",
        "\n",
        "plt.xlabel(\"SONG DURATION\")\n",
        "\n",
        "plt.ylabel(\"NUMBER OF SONGS\")"
      ],
      "execution_count": null,
      "outputs": [
        {
          "output_type": "execute_result",
          "data": {
            "text/plain": [
              "Text(0, 0.5, 'NUMBER OF SONGS')"
            ]
          },
          "metadata": {
            "tags": []
          },
          "execution_count": 16
        },
        {
          "output_type": "display_data",
          "data": {
            "image/png": "[encoded data removed]",
            "text/plain": [
              "<Figure size 720x432 with 1 Axes>"
            ]
          },
          "metadata": {
            "tags": [],
            "needs_background": "light"
          }
        }
      ]
    },
    {
      "cell_type": "code",
      "metadata": {
        "colab": {
          "base_uri": "https://localhost:8080/",
          "height": 374
        },
        "id": "DhqmiMw0kkXL",
        "outputId": "998a23e9-9928-46f0-ddda-3d0ad39fa4c4"
      },
      "source": [
        "pie, ax = plt.subplots(figsize=[10,6])\n",
        "labels = t\n",
        "plt.pie(dur,autopct=\"%.1f%%\",explode=[0.05]*17,labels=t,pctdistance=0.5)\n",
        "plt.title(\"DURATION OF A SONGS\", fontsize=14);"
      ],
      "execution_count": null,
      "outputs": [
        {
          "output_type": "display_data",
          "data": {
            "image/png": "[encoded data removed]",
            "text/plain": [
              "<Figure size 720x432 with 1 Axes>"
            ]
          },
          "metadata": {
            "tags": []
          }
        }
      ]
    },
    {
      "cell_type": "markdown",
      "metadata": {
        "id": "Q3Hhb_zulmz3"
      },
      "source": [
        "From above plots , it is observed that most songs are around 3 minutes"
      ]
    },
    {
      "cell_type": "markdown",
      "metadata": {
        "id": "46264_k2yajh"
      },
      "source": [
        "What is the average duration of hit songs?\n"
      ]
    },
    {
      "cell_type": "code",
      "metadata": {
        "id": "cJa41654yopw"
      },
      "source": [
        "t_hit=[x for x in range(0,17)]\n",
        "dur_hit=[0]*17\n",
        "for i in range(7316):\n",
        "  if spotify_data.iloc[i]['hit']:\n",
        "    len = spotify_data.iloc[i]['duration_ms']//1000\n",
        "    len = len//60\n",
        "    dur_hit[len]=dur_hit[len]+1"
      ],
      "execution_count": null,
      "outputs": []
    },
    {
      "cell_type": "code",
      "metadata": {
        "colab": {
          "base_uri": "https://localhost:8080/",
          "height": 421
        },
        "id": "i0d4Nqrc08yQ",
        "outputId": "4d37f1a4-92c9-4eff-d477-8aec5dbf2fca"
      },
      "source": [
        "plt.figure(figsize=(10,6))\n",
        "\n",
        "plt.title(\"AVAERAGE DURATION OF HIT SONGS\")\n",
        "\n",
        "sns.barplot(x=t_hit, y=dur_hit)\n",
        "\n",
        "plt.xlabel(\"SONG DURATION\")\n",
        "\n",
        "plt.ylabel(\"NUMBER OF SONGS\")"
      ],
      "execution_count": null,
      "outputs": [
        {
          "output_type": "execute_result",
          "data": {
            "text/plain": [
              "Text(0, 0.5, 'NUMBER OF SONGS')"
            ]
          },
          "metadata": {
            "tags": []
          },
          "execution_count": 17
        },
        {
          "output_type": "display_data",
          "data": {
            "image/png": "[encoded data removed]",
            "text/plain": [
              "<Figure size 720x432 with 1 Axes>"
            ]
          },
          "metadata": {
            "tags": [],
            "needs_background": "light"
          }
        }
      ]
    },
    {
      "cell_type": "code",
      "metadata": {
        "colab": {
          "base_uri": "https://localhost:8080/",
          "height": 374
        },
        "id": "OpzvBnuF1W66",
        "outputId": "40a3a109-d75e-4ed3-ac94-ef029a4307ff"
      },
      "source": [
        "pie, ax = plt.subplots(figsize=[10,6])\n",
        "labels = t_hit\n",
        "plt.pie(dur_hit,autopct=\"%.1f%%\",explode=[0.05]*17,labels=t_hit,pctdistance=0.5)\n",
        "plt.title(\"DURATION OF A SONGS\", fontsize=14);"
      ],
      "execution_count": null,
      "outputs": [
        {
          "output_type": "display_data",
          "data": {
            "image/png": "[encoded data removed]",
            "text/plain": [
              "<Figure size 720x432 with 1 Axes>"
            ]
          },
          "metadata": {
            "tags": []
          }
        }
      ]
    },
    {
      "cell_type": "code",
      "metadata": {
        "colab": {
          "base_uri": "https://localhost:8080/",
          "height": 284
        },
        "id": "nP_atJ3F41aa",
        "outputId": "bca148ee-a0bf-41ee-b891-2c1c1fb55ce1"
      },
      "source": [
        "sns.barplot(x=t_hit, y=dur_hit)\n",
        "sns.barplot(x=t,y=dur)"
      ],
      "execution_count": null,
      "outputs": [
        {
          "output_type": "execute_result",
          "data": {
            "text/plain": [
              "<matplotlib.axes._subplots.AxesSubplot at 0x7f8b6ab3d5d0>"
            ]
          },
          "metadata": {
            "tags": []
          },
          "execution_count": 21
        },
        {
          "output_type": "display_data",
          "data": {
            "image/png": "[encoded data removed]",
            "text/plain": [
              "<Figure size 432x288 with 1 Axes>"
            ]
          },
          "metadata": {
            "tags": [],
            "needs_background": "light"
          }
        }
      ]
    },
    {
      "cell_type": "markdown",
      "metadata": {
        "id": "cACTKToJ7uil"
      },
      "source": [
        "From the above plots we can conclude that hit songs are also having average time around 3 minutes"
      ]
    },
    {
      "cell_type": "markdown",
      "metadata": {
        "id": "wlsN3i1pCRWe"
      },
      "source": [
        "How many accoustic songs are hit?\n"
      ]
    },
    {
      "cell_type": "code",
      "metadata": {
        "colab": {
          "base_uri": "https://localhost:8080/",
          "height": 312
        },
        "id": "BcZMj0LSCXBW",
        "outputId": "e61a2106-1f29-4885-fa9d-27fa2c02d516"
      },
      "source": [
        "hit=[0,0,0,0]\n",
        "for i in range(7316):\n",
        "  if spotify_data.iloc[i]['hit'] and spotify_data.iloc[i]['acousticness']>0.5:\n",
        "    x=spotify_data.iloc[i]['year']\n",
        "    if x==2016:\n",
        "      hit[0]+=1\n",
        "    elif x==2017:\n",
        "      hit[1]+=1\n",
        "    elif x==2018:\n",
        "      hit[2]+=1\n",
        "    else:\n",
        "      hit[3]+=1\n",
        "plt.title(\"NUMBER OF HIT ACOUSTIC SONGS RELEASED IN RESPECTIVE YEARS\")\n",
        "\n",
        "sns.barplot(x=[2016,2017,2018,2019], y=hit)\n",
        "\n",
        "plt.xlabel(\"YEAR\")\n",
        "\n",
        "plt.ylabel(\"NUMBER OF HIT ACOUSTIC SONGS\")\n"
      ],
      "execution_count": null,
      "outputs": [
        {
          "output_type": "execute_result",
          "data": {
            "text/plain": [
              "Text(0, 0.5, 'NUMBER OF HIT ACOUSTIC SONGS')"
            ]
          },
          "metadata": {
            "tags": []
          },
          "execution_count": 53
        },
        {
          "output_type": "display_data",
          "data": {
            "image/png": "[encoded data removed]",
            "text/plain": [
              "<Figure size 432x288 with 1 Axes>"
            ]
          },
          "metadata": {
            "tags": [],
            "needs_background": "light"
          }
        }
      ]
    },
    {
      "cell_type": "code",
      "metadata": {
        "colab": {
          "base_uri": "https://localhost:8080/",
          "height": 265
        },
        "id": "mGUDbBmIEN9a",
        "outputId": "be53eda1-c2f6-4360-848f-46ef8a4d9e1a"
      },
      "source": [
        "plt.pie([sum(hit),7316-sum(hit)],autopct=\"%.1f%%\",explode=[0.05]*2,labels=['acoustic hit songs','acoustic nono hit songs'],pctdistance=0.5)\n",
        "\n",
        "plt.title(\"ACOSTIC SONGS\", fontsize=14);"
      ],
      "execution_count": null,
      "outputs": [
        {
          "output_type": "display_data",
          "data": {
            "image/png": "[encoded data removed]",
            "text/plain": [
              "<Figure size 432x288 with 1 Axes>"
            ]
          },
          "metadata": {
            "tags": []
          }
        }
      ]
    },
    {
      "cell_type": "markdown",
      "metadata": {
        "id": "0PzY8pRGEd8s"
      },
      "source": [
        "From above plottings we can observe that most of the acoustic songs are not hit"
      ]
    },
    {
      "cell_type": "markdown",
      "metadata": {
        "id": "tFRLxt0WmElt"
      },
      "source": [
        "Is there relation between acousticness and energy?"
      ]
    },
    {
      "cell_type": "code",
      "metadata": {
        "colab": {
          "base_uri": "https://localhost:8080/",
          "height": 296
        },
        "id": "BH9WSh3zmwCy",
        "outputId": "b69411a8-65de-4b6d-ff97-3d216e5d46cc"
      },
      "source": [
        "sns.scatterplot(x=spotify_data.acousticness,y=spotify_data.energy, color=\"b\")\n"
      ],
      "execution_count": null,
      "outputs": [
        {
          "output_type": "execute_result",
          "data": {
            "text/plain": [
              "<matplotlib.axes._subplots.AxesSubplot at 0x7f3a6f4ba650>"
            ]
          },
          "metadata": {
            "tags": []
          },
          "execution_count": 16
        },
        {
          "output_type": "display_data",
          "data": {
            "image/png": "[encoded data removed]",
            "text/plain": [
              "<Figure size 432x288 with 1 Axes>"
            ]
          },
          "metadata": {
            "tags": [],
            "needs_background": "light"
          }
        }
      ]
    },
    {
      "cell_type": "markdown",
      "metadata": {
        "id": "JnyNfeL8mV2_"
      },
      "source": [
        "They are negatively correlated"
      ]
    },
    {
      "cell_type": "markdown",
      "metadata": {
        "id": "FQ_EoopIyIuW"
      },
      "source": [
        "relation beteen artist vs hit"
      ]
    },
    {
      "cell_type": "code",
      "metadata": {
        "id": "TEfTx6GqN_HD",
        "outputId": "a1a5309b-8b76-42f9-d932-23851e6d5eec",
        "colab": {
          "base_uri": "https://localhost:8080/",
          "height": 401
        }
      },
      "source": [
        "sns.relplot(x=spotify_data.artist_popularity,y=spotify_data.hit, color=\"b\") "
      ],
      "execution_count": 9,
      "outputs": [
        {
          "output_type": "execute_result",
          "data": {
            "text/plain": [
              "<seaborn.axisgrid.FacetGrid at 0x7f0916a71990>"
            ]
          },
          "metadata": {
            "tags": []
          },
          "execution_count": 9
        },
        {
          "output_type": "display_data",
          "data": {
            "image/png": "[encoded data removed]",
            "text/plain": [
              "<Figure size 360x360 with 1 Axes>"
            ]
          },
          "metadata": {
            "tags": [],
            "needs_background": "light"
          }
        }
      ]
    },
    {
      "cell_type": "markdown",
      "metadata": {
        "id": "qdZbq_iXOF1a"
      },
      "source": [
        "artist popularity vs track popularity"
      ]
    },
    {
      "cell_type": "code",
      "metadata": {
        "id": "CZke1ZhRLwdZ",
        "outputId": "a8d71d86-30c5-436f-d2ee-40712f06895e",
        "colab": {
          "base_uri": "https://localhost:8080/",
          "height": 401
        }
      },
      "source": [
        "sns.relplot(x=spotify_data.artist_popularity,y=spotify_data.track_popularity, color=\"b\") "
      ],
      "execution_count": 7,
      "outputs": [
        {
          "output_type": "execute_result",
          "data": {
            "text/plain": [
              "<seaborn.axisgrid.FacetGrid at 0x7f09169f6dd0>"
            ]
          },
          "metadata": {
            "tags": []
          },
          "execution_count": 7
        },
        {
          "output_type": "display_data",
          "data": {
            "image/png": "[encoded data removed]",
            "text/plain": [
              "<Figure size 360x360 with 1 Axes>"
            ]
          },
          "metadata": {
            "tags": [],
            "needs_background": "light"
          }
        }
      ]
    },
    {
      "cell_type": "markdown",
      "metadata": {
        "id": "fwPgdNTwOMQz"
      },
      "source": [
        "acousticness vs loudness"
      ]
    },
    {
      "cell_type": "code",
      "metadata": {
        "colab": {
          "base_uri": "https://localhost:8080/",
          "height": 400
        },
        "id": "MEihmAaKNl51",
        "outputId": "322ec12a-72ef-4187-8ba0-7668a46bdcd4"
      },
      "source": [
        "sns.relplot(x=spotify_data.acousticness,y=spotify_data.loudness, color=\"b\") "
      ],
      "execution_count": 10,
      "outputs": [
        {
          "output_type": "execute_result",
          "data": {
            "text/plain": [
              "<seaborn.axisgrid.FacetGrid at 0x7f09169c8190>"
            ]
          },
          "metadata": {
            "tags": []
          },
          "execution_count": 10
        },
        {
          "output_type": "display_data",
          "data": {
            "image/png": "[encoded data removed]",
            "text/plain": [
              "<Figure size 360x360 with 1 Axes>"
            ]
          },
          "metadata": {
            "tags": [],
            "needs_background": "light"
          }
        }
      ]
    },
    {
      "cell_type": "markdown",
      "metadata": {
        "id": "pHaPsNvYOzZz"
      },
      "source": [
        "cousticness vs instrumentalness"
      ]
    },
    {
      "cell_type": "code",
      "metadata": {
        "colab": {
          "base_uri": "https://localhost:8080/",
          "height": 400
        },
        "id": "0kvifa84On_L",
        "outputId": "ae2b3737-de2c-41c8-970d-2753f8a3d8ab"
      },
      "source": [
        "sns.relplot(x=spotify_data.acousticness,y=spotify_data.instrumentalness, color=\"b\") "
      ],
      "execution_count": 11,
      "outputs": [
        {
          "output_type": "execute_result",
          "data": {
            "text/plain": [
              "<seaborn.axisgrid.FacetGrid at 0x7f090c638b10>"
            ]
          },
          "metadata": {
            "tags": []
          },
          "execution_count": 11
        },
        {
          "output_type": "display_data",
          "data": {
            "image/png": "[encoded data removed]",
            "text/plain": [
              "<Figure size 360x360 with 1 Axes>"
            ]
          },
          "metadata": {
            "tags": [],
            "needs_background": "light"
          }
        }
      ]
    }
  ]
}